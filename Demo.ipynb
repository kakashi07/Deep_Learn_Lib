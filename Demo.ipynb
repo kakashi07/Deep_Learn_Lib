{
 "cells": [
  {
   "cell_type": "code",
   "execution_count": 1,
   "id": "0be36b46",
   "metadata": {},
   "outputs": [],
   "source": [
    "%load_ext autoreload\n",
    "%autoreload 2\n",
    "%reload_ext autoreload\n"
   ]
  },
  {
   "cell_type": "code",
   "execution_count": 2,
   "id": "a6267183",
   "metadata": {},
   "outputs": [],
   "source": [
    "import lib.Layers as Layer\n",
    "import numpy as np\n",
    "import lib.loss_functions as Loss\n",
    "import lib.Activations as activations\n",
    "from lib.DataLoader import DataLoader\n",
    "import lib.helper as processing\n",
    "import lib.Sequential as Sequence\n",
    "\n",
    "import matplotlib.pyplot as plt"
   ]
  },
  {
   "cell_type": "markdown",
   "id": "749c5afd",
   "metadata": {},
   "source": [
    "#### Step 1 : Processing the Data\n",
    "This folllowing code downloads the MNIST data, processes it , splits it into train_test splits returns data that is ready to be fed to neural network\n",
    "- Arguments :<br>\n",
    "\t- \"**download**\" : False - if data is already present <br>\n",
    "    - \"**download**\" : True - if data needs to be downloaded <br>\n",
    "    - \"**ratio**\" : train_test split ratio\n",
    "\n",
    "            "
   ]
  },
  {
   "cell_type": "code",
   "execution_count": 3,
   "id": "83f97f19",
   "metadata": {},
   "outputs": [],
   "source": [
    "#Downloading the data, processing them and splitting to train_test sets \n",
    "X_train,X_test,y_train,y_test = processing.process_data(download=False,ratio=0.8)\n",
    "\n",
    "#One hot encoding of the categorical test data output\n",
    "y_train_new = np.eye(10)[((y_train))][0].T\n",
    "y_test_new = (np.eye(10)[(y_test)])[0].T\n",
    "\n",
    "data_dict = {'X_train':X_train,'y_train_new':y_train_new,'X_test':X_test,'y_test': y_test}"
   ]
  },
  {
   "cell_type": "markdown",
   "id": "7e3e011b",
   "metadata": {},
   "source": [
    "#### Step 2 :  Defining the network architecture\n",
    "This folllowing defines the neural network architecture. First of all, the Sequential() object of class Sequence is defined, whose main purpose is to allow us to define network objects that store the different layers of the entire architecture. We then use the construct network method to define the architecture with following arguments:\n",
    "- Arguments :<br>\n",
    "\t- **input_units**               : Number of input dimensions\n",
    "    - **hidden_units**            :  A list of hidden  layers with their corresponding unit size\n",
    "    - **output_units**             : Number of output units\n",
    "    - **activation_function**  : Activation function to be used, derived from the Activations() class\n",
    "\n",
    "\n",
    "            "
   ]
  },
  {
   "cell_type": "code",
   "execution_count": 4,
   "id": "1e367be9",
   "metadata": {
    "scrolled": false
   },
   "outputs": [],
   "source": [
    "#Defining the network architecture \n",
    "network = Sequence.Sequential()\n",
    "hidden_units = [256,64]\n",
    "output_units = 10\n",
    "activation_unit = activations.Sigmoid()\n",
    "learning_rate = 0.01\n",
    "weight_initialization = 'random'\n",
    "\n",
    "network_sequence = network.construct_network(X_train.shape[0],hidden_units,output_units,activation_unit,learning_rate,weight_initialization)\n"
   ]
  },
  {
   "cell_type": "markdown",
   "id": "e80d8c42",
   "metadata": {},
   "source": [
    "#### Step 3 : Training the network \n",
    "This step usees processing.main function to run the training loops for corresponding epochs, gradient are set to zero at the start of each epochs.\n",
    "- Arguments :<br>\n",
    "    - **network**               :  Sequence.Sequential() network architecture from step 2    - **loss_function**            :  Loss function to be used (eg. Loss.CrossEntropy() or Loss.HingeLoss())\n",
    "    - **data_dict**             : Data object from Step 1\n",
    "    - **batch_size**  : Batch size for Mini Batch Gradient descent\n",
    "    - **epoch_range**  : Total Epochs      "
   ]
  },
  {
   "cell_type": "code",
   "execution_count": 5,
   "id": "e44b76a3",
   "metadata": {
    "scrolled": true
   },
   "outputs": [
    {
     "name": "stdout",
     "output_type": "stream",
     "text": [
      "Iterating Epoch 1/100,   Average Epoch Loss  : 4.18779,Training Accuracy : 0.154161, Validation Accuracy : 0.236429  \n",
      "Iterating Epoch 2/100,   Average Epoch Loss  : 3.374581,Training Accuracy : 0.316909, Validation Accuracy : 0.388357  \n",
      "Iterating Epoch 3/100,   Average Epoch Loss  : 2.908295,Training Accuracy : 0.438784, Validation Accuracy : 0.486643  \n",
      "Iterating Epoch 4/100,   Average Epoch Loss  : 2.597231,Training Accuracy : 0.516442, Validation Accuracy : 0.547071  \n",
      "Iterating Epoch 5/100,   Average Epoch Loss  : 2.372023,Training Accuracy : 0.566536, Validation Accuracy : 0.590214  \n",
      "Iterating Epoch 6/100,   Average Epoch Loss  : 2.199766,Training Accuracy : 0.604226, Validation Accuracy : 0.619357  \n",
      "Iterating Epoch 7/100,   Average Epoch Loss  : 2.062765,Training Accuracy : 0.632966, Validation Accuracy : 0.641071  \n",
      "Iterating Epoch 8/100,   Average Epoch Loss  : 1.950595,Training Accuracy : 0.655694, Validation Accuracy : 0.662429  \n",
      "Iterating Epoch 9/100,   Average Epoch Loss  : 1.856664,Training Accuracy : 0.672988, Validation Accuracy : 0.678929  \n",
      "Iterating Epoch 10/100,   Average Epoch Loss  : 1.776585,Training Accuracy : 0.687843, Validation Accuracy : 0.691214  \n",
      "Iterating Epoch 11/100,   Average Epoch Loss  : 1.707314,Training Accuracy : 0.70032, Validation Accuracy : 0.702714  \n",
      "Iterating Epoch 12/100,   Average Epoch Loss  : 1.646655,Training Accuracy : 0.70957, Validation Accuracy : 0.711357  \n",
      "Iterating Epoch 13/100,   Average Epoch Loss  : 1.592985,Training Accuracy : 0.71904, Validation Accuracy : 0.719786  \n",
      "Iterating Epoch 14/100,   Average Epoch Loss  : 1.545075,Training Accuracy : 0.727279, Validation Accuracy : 0.727286  \n",
      "Iterating Epoch 15/100,   Average Epoch Loss  : 1.501976,Training Accuracy : 0.734848, Validation Accuracy : 0.736214  \n",
      "Iterating Epoch 16/100,   Average Epoch Loss  : 1.462941,Training Accuracy : 0.740761, Validation Accuracy : 0.742714  \n",
      "Iterating Epoch 17/100,   Average Epoch Loss  : 1.427375,Training Accuracy : 0.746461, Validation Accuracy : 0.747714  \n",
      "Iterating Epoch 18/100,   Average Epoch Loss  : 1.394793,Training Accuracy : 0.751971, Validation Accuracy : 0.752429  \n",
      "Iterating Epoch 19/100,   Average Epoch Loss  : 1.364801,Training Accuracy : 0.75709, Validation Accuracy : 0.7575  \n",
      "Iterating Epoch 20/100,   Average Epoch Loss  : 1.337074,Training Accuracy : 0.761624, Validation Accuracy : 0.761071  \n",
      "Iterating Epoch 21/100,   Average Epoch Loss  : 1.311341,Training Accuracy : 0.765672, Validation Accuracy : 0.7645  \n",
      "Iterating Epoch 22/100,   Average Epoch Loss  : 1.287374,Training Accuracy : 0.769845, Validation Accuracy : 0.768643  \n",
      "Iterating Epoch 23/100,   Average Epoch Loss  : 1.264982,Training Accuracy : 0.773615, Validation Accuracy : 0.771429  \n",
      "Iterating Epoch 24/100,   Average Epoch Loss  : 1.244,Training Accuracy : 0.777296, Validation Accuracy : 0.774857  \n",
      "Iterating Epoch 25/100,   Average Epoch Loss  : 1.224287,Training Accuracy : 0.781001, Validation Accuracy : 0.777286  \n",
      "Iterating Epoch 26/100,   Average Epoch Loss  : 1.20572,Training Accuracy : 0.783813, Validation Accuracy : 0.779357  \n",
      "Iterating Epoch 27/100,   Average Epoch Loss  : 1.188193,Training Accuracy : 0.786665, Validation Accuracy : 0.780929  \n",
      "Iterating Epoch 28/100,   Average Epoch Loss  : 1.171613,Training Accuracy : 0.789382, Validation Accuracy : 0.783929  \n",
      "Iterating Epoch 29/100,   Average Epoch Loss  : 1.155899,Training Accuracy : 0.791963, Validation Accuracy : 0.785929  \n",
      "Iterating Epoch 30/100,   Average Epoch Loss  : 1.140979,Training Accuracy : 0.794537, Validation Accuracy : 0.787786  \n",
      "Iterating Epoch 31/100,   Average Epoch Loss  : 1.126789,Training Accuracy : 0.796674, Validation Accuracy : 0.790714  \n",
      "Iterating Epoch 32/100,   Average Epoch Loss  : 1.113272,Training Accuracy : 0.799444, Validation Accuracy : 0.792214  \n",
      "Iterating Epoch 33/100,   Average Epoch Loss  : 1.100378,Training Accuracy : 0.801509, Validation Accuracy : 0.793143  \n",
      "Iterating Epoch 34/100,   Average Epoch Loss  : 1.088061,Training Accuracy : 0.803338, Validation Accuracy : 0.795357  \n",
      "Iterating Epoch 35/100,   Average Epoch Loss  : 1.07628,Training Accuracy : 0.804723, Validation Accuracy : 0.796786  \n",
      "Iterating Epoch 36/100,   Average Epoch Loss  : 1.064997,Training Accuracy : 0.806712, Validation Accuracy : 0.798357  \n",
      "Iterating Epoch 37/100,   Average Epoch Loss  : 1.054179,Training Accuracy : 0.808706, Validation Accuracy : 0.799857  \n",
      "Iterating Epoch 38/100,   Average Epoch Loss  : 1.043794,Training Accuracy : 0.810571, Validation Accuracy : 0.801357  \n",
      "Iterating Epoch 39/100,   Average Epoch Loss  : 1.033815,Training Accuracy : 0.812009, Validation Accuracy : 0.802571  \n",
      "Iterating Epoch 40/100,   Average Epoch Loss  : 1.024215,Training Accuracy : 0.81363, Validation Accuracy : 0.804286  \n",
      "Iterating Epoch 41/100,   Average Epoch Loss  : 1.014972,Training Accuracy : 0.815442, Validation Accuracy : 0.805214  \n",
      "Iterating Epoch 42/100,   Average Epoch Loss  : 1.006064,Training Accuracy : 0.816986, Validation Accuracy : 0.806357  \n",
      "Iterating Epoch 43/100,   Average Epoch Loss  : 0.99747,Training Accuracy : 0.818194, Validation Accuracy : 0.807286  \n",
      "Iterating Epoch 44/100,   Average Epoch Loss  : 0.989173,Training Accuracy : 0.819638, Validation Accuracy : 0.807857  \n",
      "Iterating Epoch 45/100,   Average Epoch Loss  : 0.981154,Training Accuracy : 0.820721, Validation Accuracy : 0.809571  \n",
      "Iterating Epoch 46/100,   Average Epoch Loss  : 0.9734,Training Accuracy : 0.821715, Validation Accuracy : 0.810571  \n",
      "Iterating Epoch 47/100,   Average Epoch Loss  : 0.965895,Training Accuracy : 0.823065, Validation Accuracy : 0.811  \n",
      "Iterating Epoch 48/100,   Average Epoch Loss  : 0.958626,Training Accuracy : 0.824112, Validation Accuracy : 0.812143  \n",
      "Iterating Epoch 49/100,   Average Epoch Loss  : 0.951581,Training Accuracy : 0.825036, Validation Accuracy : 0.812786  \n",
      "Iterating Epoch 50/100,   Average Epoch Loss  : 0.944747,Training Accuracy : 0.826349, Validation Accuracy : 0.813143  \n",
      "Iterating Epoch 51/100,   Average Epoch Loss  : 0.938116,Training Accuracy : 0.827208, Validation Accuracy : 0.814357  \n",
      "Iterating Epoch 52/100,   Average Epoch Loss  : 0.931675,Training Accuracy : 0.827829, Validation Accuracy : 0.815214  \n",
      "Iterating Epoch 53/100,   Average Epoch Loss  : 0.925418,Training Accuracy : 0.828575, Validation Accuracy : 0.816571  \n",
      "Iterating Epoch 54/100,   Average Epoch Loss  : 0.919334,Training Accuracy : 0.829611, Validation Accuracy : 0.817857  \n",
      "Iterating Epoch 55/100,   Average Epoch Loss  : 0.913417,Training Accuracy : 0.830498, Validation Accuracy : 0.819571  \n",
      "Iterating Epoch 56/100,   Average Epoch Loss  : 0.907659,Training Accuracy : 0.831493, Validation Accuracy : 0.819643  \n",
      "Iterating Epoch 57/100,   Average Epoch Loss  : 0.902052,Training Accuracy : 0.83244, Validation Accuracy : 0.820357  \n",
      "Iterating Epoch 58/100,   Average Epoch Loss  : 0.896592,Training Accuracy : 0.83354, Validation Accuracy : 0.820929  \n",
      "Iterating Epoch 59/100,   Average Epoch Loss  : 0.891271,Training Accuracy : 0.834233, Validation Accuracy : 0.821071  \n",
      "Iterating Epoch 60/100,   Average Epoch Loss  : 0.886084,Training Accuracy : 0.834807, Validation Accuracy : 0.821143  \n",
      "Iterating Epoch 61/100,   Average Epoch Loss  : 0.881027,Training Accuracy : 0.835571, Validation Accuracy : 0.8225  \n",
      "Iterating Epoch 62/100,   Average Epoch Loss  : 0.876093,Training Accuracy : 0.836121, Validation Accuracy : 0.8235  \n",
      "Iterating Epoch 63/100,   Average Epoch Loss  : 0.871278,Training Accuracy : 0.836707, Validation Accuracy : 0.823857  \n",
      "Iterating Epoch 64/100,   Average Epoch Loss  : 0.866577,Training Accuracy : 0.837346, Validation Accuracy : 0.824143  \n",
      "Iterating Epoch 65/100,   Average Epoch Loss  : 0.861987,Training Accuracy : 0.838021, Validation Accuracy : 0.825143  \n",
      "Iterating Epoch 66/100,   Average Epoch Loss  : 0.857503,Training Accuracy : 0.838625, Validation Accuracy : 0.8255  \n",
      "Iterating Epoch 67/100,   Average Epoch Loss  : 0.853122,Training Accuracy : 0.838915, Validation Accuracy : 0.826214  \n",
      "Iterating Epoch 68/100,   Average Epoch Loss  : 0.848838,Training Accuracy : 0.839483, Validation Accuracy : 0.826786  \n",
      "Iterating Epoch 69/100,   Average Epoch Loss  : 0.84465,Training Accuracy : 0.83998, Validation Accuracy : 0.828357  \n"
     ]
    },
    {
     "name": "stdout",
     "output_type": "stream",
     "text": [
      "Iterating Epoch 70/100,   Average Epoch Loss  : 0.840553,Training Accuracy : 0.840601, Validation Accuracy : 0.829286  \n",
      "Iterating Epoch 71/100,   Average Epoch Loss  : 0.836545,Training Accuracy : 0.840956, Validation Accuracy : 0.83  \n",
      "Iterating Epoch 72/100,   Average Epoch Loss  : 0.832621,Training Accuracy : 0.841471, Validation Accuracy : 0.8305  \n",
      "Iterating Epoch 73/100,   Average Epoch Loss  : 0.828779,Training Accuracy : 0.841969, Validation Accuracy : 0.831429  \n",
      "Iterating Epoch 74/100,   Average Epoch Loss  : 0.825017,Training Accuracy : 0.842359, Validation Accuracy : 0.833071  \n",
      "Iterating Epoch 75/100,   Average Epoch Loss  : 0.82133,Training Accuracy : 0.84288, Validation Accuracy : 0.833714  \n",
      "Iterating Epoch 76/100,   Average Epoch Loss  : 0.817718,Training Accuracy : 0.843513, Validation Accuracy : 0.834429  \n",
      "Iterating Epoch 77/100,   Average Epoch Loss  : 0.814177,Training Accuracy : 0.844241, Validation Accuracy : 0.834929  \n",
      "Iterating Epoch 78/100,   Average Epoch Loss  : 0.810705,Training Accuracy : 0.844987, Validation Accuracy : 0.835286  \n",
      "Iterating Epoch 79/100,   Average Epoch Loss  : 0.807299,Training Accuracy : 0.845555, Validation Accuracy : 0.835071  \n",
      "Iterating Epoch 80/100,   Average Epoch Loss  : 0.803958,Training Accuracy : 0.845893, Validation Accuracy : 0.8355  \n",
      "Iterating Epoch 81/100,   Average Epoch Loss  : 0.80068,Training Accuracy : 0.846366, Validation Accuracy : 0.836  \n",
      "Iterating Epoch 82/100,   Average Epoch Loss  : 0.797461,Training Accuracy : 0.84681, Validation Accuracy : 0.837143  \n",
      "Iterating Epoch 83/100,   Average Epoch Loss  : 0.794301,Training Accuracy : 0.847307, Validation Accuracy : 0.838071  \n",
      "Iterating Epoch 84/100,   Average Epoch Loss  : 0.791198,Training Accuracy : 0.848124, Validation Accuracy : 0.838214  \n",
      "Iterating Epoch 85/100,   Average Epoch Loss  : 0.78815,Training Accuracy : 0.848585, Validation Accuracy : 0.838571  \n",
      "Iterating Epoch 86/100,   Average Epoch Loss  : 0.785155,Training Accuracy : 0.849023, Validation Accuracy : 0.838714  \n",
      "Iterating Epoch 87/100,   Average Epoch Loss  : 0.782212,Training Accuracy : 0.849645, Validation Accuracy : 0.839071  \n",
      "Iterating Epoch 88/100,   Average Epoch Loss  : 0.779319,Training Accuracy : 0.849947, Validation Accuracy : 0.839429  \n",
      "Iterating Epoch 89/100,   Average Epoch Loss  : 0.776475,Training Accuracy : 0.850533, Validation Accuracy : 0.839857  \n",
      "Iterating Epoch 90/100,   Average Epoch Loss  : 0.773679,Training Accuracy : 0.850515, Validation Accuracy : 0.839929  \n",
      "Iterating Epoch 91/100,   Average Epoch Loss  : 0.770928,Training Accuracy : 0.850906, Validation Accuracy : 0.841214  \n",
      "Iterating Epoch 92/100,   Average Epoch Loss  : 0.768223,Training Accuracy : 0.851261, Validation Accuracy : 0.841286  \n",
      "Iterating Epoch 93/100,   Average Epoch Loss  : 0.76556,Training Accuracy : 0.851562, Validation Accuracy : 0.840929  \n",
      "Iterating Epoch 94/100,   Average Epoch Loss  : 0.762941,Training Accuracy : 0.852095, Validation Accuracy : 0.841  \n",
      "Iterating Epoch 95/100,   Average Epoch Loss  : 0.760363,Training Accuracy : 0.852462, Validation Accuracy : 0.841643  \n",
      "Iterating Epoch 96/100,   Average Epoch Loss  : 0.757824,Training Accuracy : 0.852675, Validation Accuracy : 0.842  \n",
      "Iterating Epoch 97/100,   Average Epoch Loss  : 0.755325,Training Accuracy : 0.853137, Validation Accuracy : 0.842786  \n",
      "Iterating Epoch 98/100,   Average Epoch Loss  : 0.752864,Training Accuracy : 0.853314, Validation Accuracy : 0.843071  \n",
      "Iterating Epoch 99/100,   Average Epoch Loss  : 0.75044,Training Accuracy : 0.853326, Validation Accuracy : 0.8435  \n",
      "Iterating Epoch 100/100,   Average Epoch Loss  : 0.748052,Training Accuracy : 0.853664, Validation Accuracy : 0.843429  \n"
     ]
    }
   ],
   "source": [
    "batch_ = 512\n",
    "epochs_ = 100\n",
    "loss_unit = Loss.CrossEntropy()\n",
    "learning_rate = 0.01\n",
    "\n",
    "train_accuracies, test_accuracies, loss_measured = processing.main(network,loss_unit,data_dict,batch_,epochs_)\n"
   ]
  },
  {
   "cell_type": "markdown",
   "id": "b684e36d",
   "metadata": {},
   "source": [
    "#### Step 4 : Visualizing the loss and accuracies"
   ]
  },
  {
   "cell_type": "code",
   "execution_count": 6,
   "id": "cf01f874",
   "metadata": {},
   "outputs": [
    {
     "data": {
      "image/png": "[encoded data removed]",
      "text/plain": [
       "<Figure size 864x432 with 2 Axes>"
      ]
     },
     "metadata": {
      "needs_background": "light"
     },
     "output_type": "display_data"
    }
   ],
   "source": [
    "processing._plot(train_accuracies,test_accuracies,loss_measured)\n"
   ]
  },
  {
   "cell_type": "markdown",
   "id": "81162af1",
   "metadata": {},
   "source": [
    "## Testing Network on a new input"
   ]
  },
  {
   "cell_type": "code",
   "execution_count": 7,
   "id": "eb32a4f1",
   "metadata": {},
   "outputs": [
    {
     "name": "stdout",
     "output_type": "stream",
     "text": [
      "Actual output is 3, predicted output is [3]\n"
     ]
    }
   ],
   "source": [
    "data_sample_X = X_test[1310].reshape(-1,1)\n",
    "actual_y = (y_test.T)[1310]\n",
    "\n",
    "model_output = network.forward(data_sample_X)[-1]\n",
    "\n",
    "print(f'Actual output is {np.argmax(model_output)}, predicted output is {actual_y}')"
   ]
  },
  {
   "cell_type": "markdown",
   "id": "cf4f2a5c",
   "metadata": {},
   "source": [
    "###  Neural Network 2 : 3 hidden layers"
   ]
  },
  {
   "cell_type": "code",
   "execution_count": 8,
   "id": "8b2bc4c5",
   "metadata": {
    "scrolled": true
   },
   "outputs": [
    {
     "name": "stdout",
     "output_type": "stream",
     "text": [
      "Iterating Epoch 1/100,   Average Epoch Loss  : 1.474062,Training Accuracy : 0.585671, Validation Accuracy : 0.746714  \n",
      "Iterating Epoch 2/100,   Average Epoch Loss  : 1.104904,Training Accuracy : 0.77761, Validation Accuracy : 0.8005  \n",
      "Iterating Epoch 3/100,   Average Epoch Loss  : 0.947593,Training Accuracy : 0.814595, Validation Accuracy : 0.824  \n",
      "Iterating Epoch 4/100,   Average Epoch Loss  : 0.855421,Training Accuracy : 0.83373, Validation Accuracy : 0.834714  \n",
      "Iterating Epoch 5/100,   Average Epoch Loss  : 0.793687,Training Accuracy : 0.84478, Validation Accuracy : 0.845571  \n",
      "Iterating Epoch 6/100,   Average Epoch Loss  : 0.748993,Training Accuracy : 0.852036, Validation Accuracy : 0.852571  \n",
      "Iterating Epoch 7/100,   Average Epoch Loss  : 0.714562,Training Accuracy : 0.856706, Validation Accuracy : 0.8565  \n",
      "Iterating Epoch 8/100,   Average Epoch Loss  : 0.686848,Training Accuracy : 0.86147, Validation Accuracy : 0.860214  \n",
      "Iterating Epoch 9/100,   Average Epoch Loss  : 0.663919,Training Accuracy : 0.865027, Validation Accuracy : 0.864714  \n",
      "Iterating Epoch 10/100,   Average Epoch Loss  : 0.64463,Training Accuracy : 0.867714, Validation Accuracy : 0.866571  \n",
      "Iterating Epoch 11/100,   Average Epoch Loss  : 0.628091,Training Accuracy : 0.86907, Validation Accuracy : 0.868071  \n",
      "Iterating Epoch 12/100,   Average Epoch Loss  : 0.613806,Training Accuracy : 0.872461, Validation Accuracy : 0.870429  \n",
      "Iterating Epoch 13/100,   Average Epoch Loss  : 0.601439,Training Accuracy : 0.872183, Validation Accuracy : 0.872857  \n",
      "Iterating Epoch 14/100,   Average Epoch Loss  : 0.590927,Training Accuracy : 0.871591, Validation Accuracy : 0.868429  \n",
      "Iterating Epoch 15/100,   Average Epoch Loss  : 0.58171,Training Accuracy : 0.87165, Validation Accuracy : 0.868429  \n",
      "Iterating Epoch 16/100,   Average Epoch Loss  : 0.573449,Training Accuracy : 0.87387, Validation Accuracy : 0.868143  \n",
      "Iterating Epoch 17/100,   Average Epoch Loss  : 0.566025,Training Accuracy : 0.873106, Validation Accuracy : 0.868929  \n",
      "Iterating Epoch 18/100,   Average Epoch Loss  : 0.559327,Training Accuracy : 0.873728, Validation Accuracy : 0.869429  \n",
      "Iterating Epoch 19/100,   Average Epoch Loss  : 0.553078,Training Accuracy : 0.87619, Validation Accuracy : 0.869714  \n",
      "Iterating Epoch 20/100,   Average Epoch Loss  : 0.547216,Training Accuracy : 0.877367, Validation Accuracy : 0.87  \n",
      "Iterating Epoch 21/100,   Average Epoch Loss  : 0.541759,Training Accuracy : 0.879013, Validation Accuracy : 0.871714  \n",
      "Iterating Epoch 22/100,   Average Epoch Loss  : 0.536693,Training Accuracy : 0.879995, Validation Accuracy : 0.872786  \n",
      "Iterating Epoch 23/100,   Average Epoch Loss  : 0.53197,Training Accuracy : 0.880001, Validation Accuracy : 0.872786  \n",
      "Iterating Epoch 24/100,   Average Epoch Loss  : 0.527499,Training Accuracy : 0.880996, Validation Accuracy : 0.874571  \n",
      "Iterating Epoch 25/100,   Average Epoch Loss  : 0.523271,Training Accuracy : 0.881528, Validation Accuracy : 0.877357  \n",
      "Iterating Epoch 26/100,   Average Epoch Loss  : 0.519323,Training Accuracy : 0.881185, Validation Accuracy : 0.877071  \n",
      "Iterating Epoch 27/100,   Average Epoch Loss  : 0.515676,Training Accuracy : 0.880771, Validation Accuracy : 0.875786  \n",
      "Iterating Epoch 28/100,   Average Epoch Loss  : 0.512288,Training Accuracy : 0.879717, Validation Accuracy : 0.872071  \n",
      "Iterating Epoch 29/100,   Average Epoch Loss  : 0.509141,Training Accuracy : 0.879031, Validation Accuracy : 0.871214  \n",
      "Iterating Epoch 30/100,   Average Epoch Loss  : 0.506205,Training Accuracy : 0.878622, Validation Accuracy : 0.871643  \n",
      "Iterating Epoch 31/100,   Average Epoch Loss  : 0.503444,Training Accuracy : 0.878397, Validation Accuracy : 0.871214  \n",
      "Iterating Epoch 32/100,   Average Epoch Loss  : 0.500885,Training Accuracy : 0.877811, Validation Accuracy : 0.869786  \n",
      "Iterating Epoch 33/100,   Average Epoch Loss  : 0.498526,Training Accuracy : 0.876746, Validation Accuracy : 0.870929  \n",
      "Iterating Epoch 34/100,   Average Epoch Loss  : 0.496426,Training Accuracy : 0.875657, Validation Accuracy : 0.8685  \n",
      "Iterating Epoch 35/100,   Average Epoch Loss  : 0.494528,Training Accuracy : 0.872863, Validation Accuracy : 0.865214  \n",
      "Iterating Epoch 36/100,   Average Epoch Loss  : 0.492893,Training Accuracy : 0.87091, Validation Accuracy : 0.865929  \n",
      "Iterating Epoch 37/100,   Average Epoch Loss  : 0.491421,Training Accuracy : 0.869667, Validation Accuracy : 0.866714  \n",
      "Iterating Epoch 38/100,   Average Epoch Loss  : 0.490065,Training Accuracy : 0.868572, Validation Accuracy : 0.8655  \n",
      "Iterating Epoch 39/100,   Average Epoch Loss  : 0.488751,Training Accuracy : 0.870224, Validation Accuracy : 0.865357  \n",
      "Iterating Epoch 40/100,   Average Epoch Loss  : 0.48743,Training Accuracy : 0.870076, Validation Accuracy : 0.865929  \n",
      "Iterating Epoch 41/100,   Average Epoch Loss  : 0.48607,Training Accuracy : 0.872201, Validation Accuracy : 0.866357  \n",
      "Iterating Epoch 42/100,   Average Epoch Loss  : 0.484697,Training Accuracy : 0.873964, Validation Accuracy : 0.867857  \n",
      "Iterating Epoch 43/100,   Average Epoch Loss  : 0.483318,Training Accuracy : 0.874621, Validation Accuracy : 0.870143  \n",
      "Iterating Epoch 44/100,   Average Epoch Loss  : 0.481992,Training Accuracy : 0.874799, Validation Accuracy : 0.867429  \n",
      "Iterating Epoch 45/100,   Average Epoch Loss  : 0.480737,Training Accuracy : 0.872852, Validation Accuracy : 0.869214  \n",
      "Iterating Epoch 46/100,   Average Epoch Loss  : 0.479537,Training Accuracy : 0.872863, Validation Accuracy : 0.868714  \n",
      "Iterating Epoch 47/100,   Average Epoch Loss  : 0.478415,Training Accuracy : 0.872272, Validation Accuracy : 0.867714  \n",
      "Iterating Epoch 48/100,   Average Epoch Loss  : 0.477363,Training Accuracy : 0.873343, Validation Accuracy : 0.867857  \n",
      "Iterating Epoch 49/100,   Average Epoch Loss  : 0.47644,Training Accuracy : 0.870437, Validation Accuracy : 0.870429  \n",
      "Iterating Epoch 50/100,   Average Epoch Loss  : 0.475685,Training Accuracy : 0.869111, Validation Accuracy : 0.867357  \n",
      "Iterating Epoch 51/100,   Average Epoch Loss  : 0.475035,Training Accuracy : 0.866856, Validation Accuracy : 0.864643  \n",
      "Iterating Epoch 52/100,   Average Epoch Loss  : 0.474484,Training Accuracy : 0.865436, Validation Accuracy : 0.865  \n",
      "Iterating Epoch 53/100,   Average Epoch Loss  : 0.473984,Training Accuracy : 0.86511, Validation Accuracy : 0.863857  \n",
      "Iterating Epoch 54/100,   Average Epoch Loss  : 0.473515,Training Accuracy : 0.865903, Validation Accuracy : 0.863714  \n",
      "Iterating Epoch 55/100,   Average Epoch Loss  : 0.473099,Training Accuracy : 0.86582, Validation Accuracy : 0.863071  \n",
      "Iterating Epoch 56/100,   Average Epoch Loss  : 0.472734,Training Accuracy : 0.866098, Validation Accuracy : 0.863643  \n",
      "Iterating Epoch 57/100,   Average Epoch Loss  : 0.472412,Training Accuracy : 0.865554, Validation Accuracy : 0.864857  \n",
      "Iterating Epoch 58/100,   Average Epoch Loss  : 0.472119,Training Accuracy : 0.865282, Validation Accuracy : 0.861929  \n",
      "Iterating Epoch 59/100,   Average Epoch Loss  : 0.471882,Training Accuracy : 0.862695, Validation Accuracy : 0.859714  \n",
      "Iterating Epoch 60/100,   Average Epoch Loss  : 0.471727,Training Accuracy : 0.861328, Validation Accuracy : 0.857857  \n",
      "Iterating Epoch 61/100,   Average Epoch Loss  : 0.471615,Training Accuracy : 0.85986, Validation Accuracy : 0.856929  \n",
      "Iterating Epoch 62/100,   Average Epoch Loss  : 0.47149,Training Accuracy : 0.858984, Validation Accuracy : 0.855286  \n",
      "Iterating Epoch 63/100,   Average Epoch Loss  : 0.471351,Training Accuracy : 0.85841, Validation Accuracy : 0.8555  \n",
      "Iterating Epoch 64/100,   Average Epoch Loss  : 0.471176,Training Accuracy : 0.859411, Validation Accuracy : 0.856929  \n",
      "Iterating Epoch 65/100,   Average Epoch Loss  : 0.470979,Training Accuracy : 0.861346, Validation Accuracy : 0.858214  \n",
      "Iterating Epoch 66/100,   Average Epoch Loss  : 0.470772,Training Accuracy : 0.863169, Validation Accuracy : 0.857143  \n",
      "Iterating Epoch 67/100,   Average Epoch Loss  : 0.470547,Training Accuracy : 0.865803, Validation Accuracy : 0.860929  \n",
      "Iterating Epoch 68/100,   Average Epoch Loss  : 0.470282,Training Accuracy : 0.867868, Validation Accuracy : 0.8645  \n",
      "Iterating Epoch 69/100,   Average Epoch Loss  : 0.470002,Training Accuracy : 0.867975, Validation Accuracy : 0.864857  \n"
     ]
    },
    {
     "name": "stdout",
     "output_type": "stream",
     "text": [
      "Iterating Epoch 70/100,   Average Epoch Loss  : 0.469685,Training Accuracy : 0.869525, Validation Accuracy : 0.867214  \n",
      "Iterating Epoch 71/100,   Average Epoch Loss  : 0.469329,Training Accuracy : 0.871626, Validation Accuracy : 0.866286  \n",
      "Iterating Epoch 72/100,   Average Epoch Loss  : 0.468947,Training Accuracy : 0.871697, Validation Accuracy : 0.867786  \n",
      "Iterating Epoch 73/100,   Average Epoch Loss  : 0.468555,Training Accuracy : 0.870378, Validation Accuracy : 0.8655  \n",
      "Iterating Epoch 74/100,   Average Epoch Loss  : 0.468176,Training Accuracy : 0.870289, Validation Accuracy : 0.863286  \n",
      "Iterating Epoch 75/100,   Average Epoch Loss  : 0.467764,Training Accuracy : 0.87065, Validation Accuracy : 0.8635  \n",
      "Iterating Epoch 76/100,   Average Epoch Loss  : 0.467399,Training Accuracy : 0.86994, Validation Accuracy : 0.865571  \n",
      "Iterating Epoch 77/100,   Average Epoch Loss  : 0.467069,Training Accuracy : 0.86994, Validation Accuracy : 0.865286  \n",
      "Iterating Epoch 78/100,   Average Epoch Loss  : 0.466783,Training Accuracy : 0.867732, Validation Accuracy : 0.863  \n",
      "Iterating Epoch 79/100,   Average Epoch Loss  : 0.46656,Training Accuracy : 0.865069, Validation Accuracy : 0.863643  \n",
      "Iterating Epoch 80/100,   Average Epoch Loss  : 0.46641,Training Accuracy : 0.86527, Validation Accuracy : 0.865357  \n",
      "Iterating Epoch 81/100,   Average Epoch Loss  : 0.466333,Training Accuracy : 0.863536, Validation Accuracy : 0.8625  \n",
      "Iterating Epoch 82/100,   Average Epoch Loss  : 0.466321,Training Accuracy : 0.86337, Validation Accuracy : 0.862643  \n",
      "Iterating Epoch 83/100,   Average Epoch Loss  : 0.466364,Training Accuracy : 0.862979, Validation Accuracy : 0.8625  \n",
      "Iterating Epoch 84/100,   Average Epoch Loss  : 0.466431,Training Accuracy : 0.86295, Validation Accuracy : 0.8595  \n",
      "Iterating Epoch 85/100,   Average Epoch Loss  : 0.466524,Training Accuracy : 0.861494, Validation Accuracy : 0.859714  \n",
      "Iterating Epoch 86/100,   Average Epoch Loss  : 0.466616,Training Accuracy : 0.860286, Validation Accuracy : 0.8605  \n",
      "Iterating Epoch 87/100,   Average Epoch Loss  : 0.466706,Training Accuracy : 0.860902, Validation Accuracy : 0.8605  \n",
      "Iterating Epoch 88/100,   Average Epoch Loss  : 0.466794,Training Accuracy : 0.861849, Validation Accuracy : 0.857071  \n",
      "Iterating Epoch 89/100,   Average Epoch Loss  : 0.46688,Training Accuracy : 0.861109, Validation Accuracy : 0.855071  \n",
      "Iterating Epoch 90/100,   Average Epoch Loss  : 0.466968,Training Accuracy : 0.860286, Validation Accuracy : 0.856071  \n",
      "Iterating Epoch 91/100,   Average Epoch Loss  : 0.467055,Training Accuracy : 0.861168, Validation Accuracy : 0.857  \n",
      "Iterating Epoch 92/100,   Average Epoch Loss  : 0.467153,Training Accuracy : 0.861009, Validation Accuracy : 0.858857  \n",
      "Iterating Epoch 93/100,   Average Epoch Loss  : 0.467249,Training Accuracy : 0.861281, Validation Accuracy : 0.858857  \n",
      "Iterating Epoch 94/100,   Average Epoch Loss  : 0.467354,Training Accuracy : 0.860985, Validation Accuracy : 0.86  \n",
      "Iterating Epoch 95/100,   Average Epoch Loss  : 0.467461,Training Accuracy : 0.860807, Validation Accuracy : 0.859786  \n",
      "Iterating Epoch 96/100,   Average Epoch Loss  : 0.467583,Training Accuracy : 0.861393, Validation Accuracy : 0.857857  \n",
      "Iterating Epoch 97/100,   Average Epoch Loss  : 0.46771,Training Accuracy : 0.862382, Validation Accuracy : 0.858643  \n",
      "Iterating Epoch 98/100,   Average Epoch Loss  : 0.467832,Training Accuracy : 0.862411, Validation Accuracy : 0.857643  \n",
      "Iterating Epoch 99/100,   Average Epoch Loss  : 0.467947,Training Accuracy : 0.861944, Validation Accuracy : 0.857214  \n",
      "Iterating Epoch 100/100,   Average Epoch Loss  : 0.468053,Training Accuracy : 0.862784, Validation Accuracy : 0.859643  \n"
     ]
    }
   ],
   "source": [
    "batch_ = 512\n",
    "epochs_ = 100\n",
    "learning_rate = 0.1\n",
    "weight_initialization = 'random'\n",
    "\n",
    "activation_unit = activations.Sigmoid()\n",
    "loss_unit = Loss.CrossEntropy()\n",
    "\n",
    "hidden_units =[128,256,64]\n",
    "output_units = 10\n",
    "\n",
    "#Defining the network architecture \n",
    "network = Sequence.Sequential()\n",
    "network_sequence = network.construct_network(X_train.shape[0],hidden_units,output_units,activation_unit,learning_rate,weight_initialization)\n",
    "\n",
    "\n",
    "train_accuracies, test_accuracies, loss_measured = processing.main(network,loss_unit,data_dict,batch_,epochs_)\n"
   ]
  },
  {
   "cell_type": "code",
   "execution_count": 9,
   "id": "735f2486",
   "metadata": {},
   "outputs": [
    {
     "data": {
      "image/png": "[encoded data removed]",
      "text/plain": [
       "<Figure size 864x432 with 2 Axes>"
      ]
     },
     "metadata": {
      "needs_background": "light"
     },
     "output_type": "display_data"
    }
   ],
   "source": [
    "processing._plot(train_accuracies,test_accuracies,loss_measured)\n"
   ]
  },
  {
   "cell_type": "code",
   "execution_count": null,
   "id": "66562877",
   "metadata": {},
   "outputs": [],
   "source": []
  }
 ],
 "metadata": {
  "kernelspec": {
   "display_name": "Python 3 (ipykernel)",
   "language": "python",
   "name": "python3"
  },
  "language_info": {
   "codemirror_mode": {
    "name": "ipython",
    "version": 3
   },
   "file_extension": ".py",
   "mimetype": "text/x-python",
   "name": "python",
   "nbconvert_exporter": "python",
   "pygments_lexer": "ipython3",
   "version": "3.9.12"
  }
 },
 "nbformat": 4,
 "nbformat_minor": 5
}
